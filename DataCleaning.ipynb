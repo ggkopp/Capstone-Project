{
 "cells": [
  {
   "cell_type": "markdown",
   "metadata": {},
   "source": [
    "## Data Cleaning by Garrett Kopp"
   ]
  },
  {
   "cell_type": "markdown",
   "metadata": {},
   "source": [
    "### Read Buoy Data"
   ]
  },
  {
   "cell_type": "code",
   "execution_count": 2,
   "metadata": {},
   "outputs": [
    {
     "name": "stdout",
     "output_type": "stream",
     "text": [
      "<class 'pandas.core.frame.DataFrame'>\n",
      "RangeIndex: 98081 entries, 0 to 98080\n",
      "Data columns (total 17 columns):\n",
      " #   Column                Non-Null Count  Dtype  \n",
      "---  ------                --------------  -----  \n",
      " 0   station_id            98080 non-null  object \n",
      " 1   longitude             98081 non-null  object \n",
      " 2   latitude              98081 non-null  object \n",
      " 3   time                  98081 non-null  object \n",
      " 4   atmospheric_pressure  96915 non-null  object \n",
      " 5   wind_direction        96923 non-null  object \n",
      " 6   wind_speed            97002 non-null  object \n",
      " 7   gust                  97062 non-null  object \n",
      " 8   wave_height           97763 non-null  object \n",
      " 9   wave_period           97761 non-null  object \n",
      " 10  mean_wave_direction   97527 non-null  object \n",
      " 11  Hmax                  98081 non-null  object \n",
      " 12  air_temperature       97349 non-null  object \n",
      " 13  dew_point             1 non-null      object \n",
      " 14  sea_temperature       90287 non-null  object \n",
      " 15  relative_humidity     98081 non-null  object \n",
      " 16  QC_flag               98080 non-null  float64\n",
      "dtypes: float64(1), object(16)\n",
      "memory usage: 12.7+ MB\n"
     ]
    },
    {
     "name": "stderr",
     "output_type": "stream",
     "text": [
      "C:\\Users\\garre\\AppData\\Local\\Temp\\ipykernel_21332\\4170549243.py:7: DtypeWarning: Columns (5,6,7,8,9,10,11,12,13,14,15) have mixed types. Specify dtype option on import or set low_memory=False.\n",
      "  Buoydata_full = pd.read_csv(file_path, sep=\",\")\n"
     ]
    }
   ],
   "source": [
    "import pandas as pd\n",
    "\n",
    "# Specify the file path using a raw string (recommended)\n",
    "file_path = r'C:\\Users\\garre\\.venv2\\Garrett_Kopp_Capstone_Project\\Capstone-Project\\Buoydata.csv'\n",
    "\n",
    "# Read the CSV file into a DataFrame\n",
    "Buoydata_full = pd.read_csv(file_path, sep=\",\")\n",
    "Buoydata_full.info()"
   ]
  },
  {
   "cell_type": "markdown",
   "metadata": {},
   "source": [
    "### Editing the first and second rows to be one row but concatinated to include the type of metric with the attribute. "
   ]
  },
  {
   "cell_type": "code",
   "execution_count": 3,
   "metadata": {},
   "outputs": [
    {
     "name": "stderr",
     "output_type": "stream",
     "text": [
      "C:\\Users\\garre\\AppData\\Local\\Temp\\ipykernel_21332\\3907584595.py:5: DtypeWarning: Columns (5,6,7,8,9,10,11,12,13,14,15) have mixed types. Specify dtype option on import or set low_memory=False.\n",
      "  Buoydata_full = pd.read_csv(file_path, sep=\",\")\n"
     ]
    }
   ],
   "source": [
    "\n",
    "import pandas as pd\n",
    "\n",
    "# Load the CSV file into a DataFrame\n",
    "file_path = r'C:\\Users\\garre\\.venv2\\Garrett_Kopp_Capstone_Project\\Capstone-Project\\Buoydata.csv'\n",
    "Buoydata_full = pd.read_csv(file_path, sep=\",\")\n",
    "\n",
    "# Remove the second row from the DataFrame\n",
    "Buoydata_full = Buoydata_full.iloc[1:]\n",
    "\n",
    "# Replace the header with the new values\n",
    "new_header = [\n",
    "    'station_id',\n",
    "    'longitude_degrees_east',\n",
    "    'latitude_degrees_north',\n",
    "    'time_UTC',\n",
    "    'atmospheric_pressure_mb',\n",
    "    'wind_direction_degrees_true',\n",
    "    'wind_speed_kn',\n",
    "    'gust_kn',\n",
    "    'wave_height_m',\n",
    "    'wave_period_s',\n",
    "    'mean_wave_direction_degrees_true',\n",
    "    'Hmax_m',\n",
    "    'air_temperature_degree_C',\n",
    "    'dew_point_degree_C',\n",
    "    'sea_temperature_degree_C',\n",
    "    'relative_humidity_percent',\n",
    "    'QC_flag'\n",
    "]\n",
    "\n",
    "Buoydata_full.columns = new_header\n",
    "\n",
    "# Save the modified DataFrame back to a CSV file\n",
    "Buoydata_full.to_csv(\"Buoydata_modified.csv\", index=False)\n"
   ]
  },
  {
   "cell_type": "markdown",
   "metadata": {},
   "source": [
    "### Replacing missing values in each attribute with their respective mean. "
   ]
  },
  {
   "cell_type": "code",
   "execution_count": 4,
   "metadata": {},
   "outputs": [],
   "source": [
    "\n",
    "import pandas as pd\n",
    "\n",
    "# Define the file path with your file name\n",
    "file_name = 'Buoydata_modified.csv'\n",
    "file_path = 'C:\\\\Users\\\\garre\\\\.venv2\\\\Garrett_Kopp_Capstone_Project\\\\Capstone-Project\\\\' + file_name\n",
    "\n",
    "# Load your data\n",
    "Buoydata = pd.read_csv(file_path)\n",
    "\n",
    "# List of columns for which you want to replace NaN values with their respective means\n",
    "columns_to_fill = ['atmospheric_pressure_mb', 'wind_direction_degrees_true', 'wind_speed_kn', 'gust_kn',\n",
    "                   'wave_height_m', 'wave_period_s', 'mean_wave_direction_degrees_true',\n",
    "                   'Hmax_m', 'air_temperature_degree_C', 'dew_point_degree_C',\n",
    "                   'sea_temperature_degree_C', 'relative_humidity_percent']\n",
    "\n",
    "# Convert the specified columns to numeric\n",
    "Buoydata[columns_to_fill] = Buoydata[columns_to_fill].apply(pd.to_numeric, errors='coerce')\n",
    "\n",
    "# Replace NaN values in specified columns with their respective means\n",
    "for column in columns_to_fill:\n",
    "    Buoydata[column].fillna(Buoydata[column].mean(), inplace=True)\n",
    "\n",
    "# Save the modified DataFrame back to the same CSV file\n",
    "Buoydata.to_csv(file_path, index=False)\n",
    "\n",
    "\n"
   ]
  },
  {
   "cell_type": "markdown",
   "metadata": {},
   "source": [
    "### Removing Columnns (3) with too many missing records"
   ]
  },
  {
   "cell_type": "code",
   "execution_count": 5,
   "metadata": {},
   "outputs": [],
   "source": [
    "import pandas as pd\n",
    "\n",
    "# Load your modified CSV into a DataFrame\n",
    "file_path = r'C:\\Users\\garre\\.venv2\\Garrett_Kopp_Capstone_Project\\Capstone-Project\\Buoydata_modified.csv'\n",
    "Buoydata = pd.read_csv(file_path)\n",
    "\n",
    "# Remove the specified attributes\n",
    "attributes_to_remove = ['dew_point_degree_C', 'longitude_degrees_east', 'latitude_degrees_north']\n",
    "Buoydata = Buoydata.drop(columns=attributes_to_remove)\n",
    "\n",
    "# Save the modified DataFrame back to the same CSV file\n",
    "Buoydata.to_csv(file_path, index=False)\n",
    "\n"
   ]
  },
  {
   "cell_type": "markdown",
   "metadata": {},
   "source": [
    "### Optimize datatypes to be floats instead of objects"
   ]
  },
  {
   "cell_type": "code",
   "execution_count": 6,
   "metadata": {},
   "outputs": [],
   "source": [
    "import pandas as pd\n",
    "import numpy as np\n",
    "\n",
    "# Load your modified CSV into a DataFrame\n",
    "file_path = r'C:\\Users\\garre\\.venv2\\Garrett_Kopp_Capstone_Project\\Capstone-Project\\Buoydata_modified.csv'\n",
    "Buoydata = pd.read_csv(file_path)\n",
    "\n",
    "# Create a dictionary to store the means of the specified columns\n",
    "mean_dict = {\n",
    "    'atmospheric_pressure_mb': Buoydata['atmospheric_pressure_mb'].mean(),\n",
    "    'wind_speed_kn': Buoydata['wind_speed_kn'].mean(),\n",
    "    'gust_kn': Buoydata['gust_kn'].mean(),\n",
    "    'wave_height_m': Buoydata['wave_height_m'].mean(),\n",
    "    'wave_period_s': Buoydata['wave_period_s'].mean(),\n",
    "    'Hmax_m': Buoydata['Hmax_m'].mean(),\n",
    "    'sea_temperature_degree_C': Buoydata['sea_temperature_degree_C'].mean()\n",
    "}\n",
    "\n",
    "# Replace non-finite values (NaN and inf) with their respective means\n",
    "for column, mean in mean_dict.items():\n",
    "    Buoydata[column].fillna(mean, inplace=True)\n",
    "\n",
    "# Specify the columns to change their datatypes to floats\n",
    "columns_to_convert_to_float = [\n",
    "    'atmospheric_pressure_mb',\n",
    "    'wind_speed_kn', 'gust_kn', 'wave_height_m', 'wave_period_s',\n",
    "    'Hmax_m',\n",
    "    'sea_temperature_degree_C'\n",
    "]\n",
    "\n",
    "# Use the astype function to change the specified columns to floats\n",
    "Buoydata[columns_to_convert_to_float] = Buoydata[columns_to_convert_to_float].astype(float)\n",
    "\n",
    "# Save the modified DataFrame back to the same CSV file\n",
    "Buoydata.to_csv(file_path, index=False)\n",
    "\n",
    "\n",
    "\n"
   ]
  },
  {
   "cell_type": "markdown",
   "metadata": {},
   "source": [
    "### Converting Non-decimal numbers to integers"
   ]
  },
  {
   "cell_type": "code",
   "execution_count": 7,
   "metadata": {},
   "outputs": [],
   "source": [
    "import pandas as pd\n",
    "\n",
    "# Load your modified CSV into a DataFrame\n",
    "file_path = r'C:\\Users\\garre\\.venv2\\Garrett_Kopp_Capstone_Project\\Capstone-Project\\Buoydata_modified.csv'\n",
    "Buoydata = pd.read_csv(file_path)\n",
    "\n",
    "# Specify the columns to change their datatypes to integers\n",
    "columns_to_convert_to_int = ['wind_direction_degrees_true', 'mean_wave_direction_degrees_true', 'QC_flag']\n",
    "\n",
    "# Use the astype function to change the specified columns to integers\n",
    "Buoydata[columns_to_convert_to_int] = Buoydata[columns_to_convert_to_int].astype(int)\n",
    "\n",
    "# Save the modified DataFrame back to the same CSV file\n",
    "Buoydata.to_csv(file_path, index=False)\n"
   ]
  },
  {
   "cell_type": "markdown",
   "metadata": {},
   "source": [
    "### Convert Date Tme to Float"
   ]
  },
  {
   "cell_type": "code",
   "execution_count": 14,
   "metadata": {},
   "outputs": [],
   "source": [
    "import pandas as pd\n",
    "from datetime import datetime\n",
    "\n",
    "# Load your modified CSV into a DataFrame\n",
    "file_path = r'C:\\Users\\garre\\.venv2\\Garrett_Kopp_Capstone_Project\\Capstone-Project\\Buoydata_modified.csv'\n",
    "Buoydata = pd.read_csv(file_path)\n",
    "\n",
    "# Custom function to convert datetime string to float\n",
    "def convert_time_utc_to_float(time_utc_str):\n",
    "    time_utc_datetime = datetime.strptime(time_utc_str, \"%Y-%m-%dT%H:%M:%SZ\")\n",
    "    return time_utc_datetime.timestamp()\n",
    "\n",
    "# Apply the conversion function to the \"time_UTC\" column\n",
    "Buoydata['time_UTC'] = Buoydata['time_UTC'].apply(convert_time_utc_to_float)\n",
    "\n",
    "# Specify the columns to change their datatypes to integers\n",
    "columns_to_convert_to_int = ['wind_direction_degrees_true', 'mean_wave_direction_degrees_true', 'QC_flag']\n",
    "\n",
    "# Use the astype function to change the specified columns to integers\n",
    "Buoydata[columns_to_convert_to_int] = Buoydata[columns_to_convert_to_int].astype(int)\n",
    "\n",
    "# Save the modified DataFrame back to the same CSV file\n",
    "Buoydata.to_csv(file_path, index=False)\n"
   ]
  },
  {
   "cell_type": "markdown",
   "metadata": {},
   "source": [
    "### Reading and viewing the results of all the modifications made"
   ]
  },
  {
   "cell_type": "code",
   "execution_count": 15,
   "metadata": {},
   "outputs": [
    {
     "name": "stdout",
     "output_type": "stream",
     "text": [
      "<class 'pandas.core.frame.DataFrame'>\n",
      "RangeIndex: 98080 entries, 0 to 98079\n",
      "Data columns (total 14 columns):\n",
      " #   Column                            Non-Null Count  Dtype  \n",
      "---  ------                            --------------  -----  \n",
      " 0   station_id                        98080 non-null  object \n",
      " 1   time_UTC                          98080 non-null  float64\n",
      " 2   atmospheric_pressure_mb           98080 non-null  float64\n",
      " 3   wind_direction_degrees_true       98080 non-null  int64  \n",
      " 4   wind_speed_kn                     98080 non-null  float64\n",
      " 5   gust_kn                           98080 non-null  float64\n",
      " 6   wave_height_m                     98080 non-null  float64\n",
      " 7   wave_period_s                     98080 non-null  float64\n",
      " 8   mean_wave_direction_degrees_true  98080 non-null  int64  \n",
      " 9   Hmax_m                            98080 non-null  float64\n",
      " 10  air_temperature_degree_C          98080 non-null  float64\n",
      " 11  sea_temperature_degree_C          98080 non-null  float64\n",
      " 12  relative_humidity_percent         98080 non-null  float64\n",
      " 13  QC_flag                           98080 non-null  int64  \n",
      "dtypes: float64(10), int64(3), object(1)\n",
      "memory usage: 10.5+ MB\n"
     ]
    }
   ],
   "source": [
    "import pandas as pd\n",
    "\n",
    "# Specify the file path using a raw string (recommended)\n",
    "file_path = r'C:\\Users\\garre\\.venv2\\Garrett_Kopp_Capstone_Project\\Capstone-Project\\Buoydata_modified.csv'\n",
    "\n",
    "# Read the CSV file into a DataFrame\n",
    "Buoydata_modified = pd.read_csv(file_path, sep=\",\")\n",
    "Buoydata_modified.info()"
   ]
  },
  {
   "cell_type": "code",
   "execution_count": 10,
   "metadata": {},
   "outputs": [
    {
     "name": "stdout",
     "output_type": "stream",
     "text": [
      "  station_id              time_UTC  atmospheric_pressure_mb  \\\n",
      "0         M2  2011-03-31T01:00:00Z              1001.509846   \n",
      "1         M2  2011-03-31T02:00:00Z               999.160000   \n",
      "2         M2  2011-03-31T03:00:00Z               997.598000   \n",
      "3         M2  2011-03-31T04:00:00Z               995.645000   \n",
      "4         M2  2011-03-31T05:00:00Z               995.547000   \n",
      "5         M2  2011-03-31T06:00:00Z               995.645000   \n",
      "6         M2  2011-03-31T07:00:00Z               995.449000   \n",
      "7         M2  2011-03-31T08:00:00Z               998.379000   \n",
      "8         M2  2011-03-31T09:00:00Z              1001.509846   \n",
      "9         M2  2011-03-31T10:00:00Z              1001.509846   \n",
      "\n",
      "   wind_direction_degrees_true  wind_speed_kn  gust_kn  wave_height_m  \\\n",
      "0                          174         20.948   26.868          1.250   \n",
      "1                          171         20.948   26.413          1.406   \n",
      "2                          188         18.671   25.046          1.563   \n",
      "3                          199         23.680   30.056          1.641   \n",
      "4                          195         23.680   30.056          2.109   \n",
      "5                          196         24.136   31.422          2.188   \n",
      "6                          230         28.234   43.262          2.266   \n",
      "7                          251         23.680   31.877          2.422   \n",
      "8                          255         23.680   31.877          2.422   \n",
      "9                          257         21.403   29.145          2.969   \n",
      "\n",
      "   wave_period_s  mean_wave_direction_degrees_true  Hmax_m  \\\n",
      "0          4.688                               176   1.719   \n",
      "1          4.688                               173   2.188   \n",
      "2          4.688                               174   2.422   \n",
      "3          4.688                               172   2.500   \n",
      "4          4.922                               190   3.750   \n",
      "5          4.688                               193   3.594   \n",
      "6          4.922                               191   3.203   \n",
      "7          4.688                               201   3.281   \n",
      "8          4.805                               212   3.359   \n",
      "9          5.508                               228   4.531   \n",
      "\n",
      "   air_temperature_degree_C  sea_temperature_degree_C  \\\n",
      "0                     8.672                     8.350   \n",
      "1                     8.979                     8.262   \n",
      "2                     9.526                     8.203   \n",
      "3                    10.039                     8.174   \n",
      "4                    10.313                     8.174   \n",
      "5                    10.483                     8.262   \n",
      "6                    12.705                     8.291   \n",
      "7                    11.030                     8.320   \n",
      "8                    10.620                     8.262   \n",
      "9                    10.449                     8.174   \n",
      "\n",
      "   relative_humidity_percent  QC_flag  \n",
      "0                     91.953        1  \n",
      "1                     93.672        1  \n",
      "2                     94.102        1  \n",
      "3                     92.813        1  \n",
      "4                     91.523        1  \n",
      "5                     89.805        1  \n",
      "6                     68.750        1  \n",
      "7                     74.336        1  \n",
      "8                     73.906        1  \n",
      "9                     73.477        1  \n"
     ]
    }
   ],
   "source": [
    "import pandas as pd\n",
    "\n",
    "# Load your dataset into a DataFrame\n",
    "file_path = r'C:\\Users\\garre\\.venv2\\Garrett_Kopp_Capstone_Project\\Capstone-Project\\Buoydata_modified.csv'\n",
    "Buoydata = pd.read_csv(file_path)\n",
    "\n",
    "# Display the first 10 rows\n",
    "print(Buoydata.head(10))\n"
   ]
  }
 ],
 "metadata": {
  "kernelspec": {
   "display_name": "Python 3",
   "language": "python",
   "name": "python3"
  },
  "language_info": {
   "codemirror_mode": {
    "name": "ipython",
    "version": 3
   },
   "file_extension": ".py",
   "mimetype": "text/x-python",
   "name": "python",
   "nbconvert_exporter": "python",
   "pygments_lexer": "ipython3",
   "version": "3.10.9"
  },
  "orig_nbformat": 4
 },
 "nbformat": 4,
 "nbformat_minor": 2
}
