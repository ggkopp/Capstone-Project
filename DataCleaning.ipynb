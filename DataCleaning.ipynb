{
 "cells": [
  {
   "cell_type": "markdown",
   "metadata": {},
   "source": [
    "## Data Cleaning by Garrett Kopp"
   ]
  },
  {
   "cell_type": "markdown",
   "metadata": {},
   "source": [
    "### Read Buoy Data"
   ]
  },
  {
   "cell_type": "code",
   "execution_count": 1,
   "metadata": {},
   "outputs": [
    {
     "name": "stdout",
     "output_type": "stream",
     "text": [
      "<class 'pandas.core.frame.DataFrame'>\n",
      "RangeIndex: 98081 entries, 0 to 98080\n",
      "Data columns (total 17 columns):\n",
      " #   Column                Non-Null Count  Dtype  \n",
      "---  ------                --------------  -----  \n",
      " 0   station_id            98080 non-null  object \n",
      " 1   longitude             98081 non-null  object \n",
      " 2   latitude              98081 non-null  object \n",
      " 3   time                  98081 non-null  object \n",
      " 4   atmospheric_pressure  96915 non-null  object \n",
      " 5   wind_direction        96923 non-null  object \n",
      " 6   wind_speed            97002 non-null  object \n",
      " 7   gust                  97062 non-null  object \n",
      " 8   wave_height           97763 non-null  object \n",
      " 9   wave_period           97761 non-null  object \n",
      " 10  mean_wave_direction   97527 non-null  object \n",
      " 11  Hmax                  98081 non-null  object \n",
      " 12  air_temperature       97349 non-null  object \n",
      " 13  dew_point             1 non-null      object \n",
      " 14  sea_temperature       90287 non-null  object \n",
      " 15  relative_humidity     98081 non-null  object \n",
      " 16  QC_flag               98080 non-null  float64\n",
      "dtypes: float64(1), object(16)\n",
      "memory usage: 12.7+ MB\n"
     ]
    },
    {
     "name": "stderr",
     "output_type": "stream",
     "text": [
      "C:\\Users\\garre\\AppData\\Local\\Temp\\ipykernel_17204\\4170549243.py:7: DtypeWarning: Columns (5,6,7,8,9,10,11,12,13,14,15) have mixed types. Specify dtype option on import or set low_memory=False.\n",
      "  Buoydata_full = pd.read_csv(file_path, sep=\",\")\n"
     ]
    }
   ],
   "source": [
    "import pandas as pd\n",
    "\n",
    "# Specify the file path using a raw string (recommended)\n",
    "file_path = r'C:\\Users\\garre\\.venv2\\Garrett_Kopp_Capstone_Project\\Capstone-Project\\Buoydata.csv'\n",
    "\n",
    "# Read the CSV file into a DataFrame\n",
    "Buoydata_full = pd.read_csv(file_path, sep=\",\")\n",
    "Buoydata_full.info()"
   ]
  },
  {
   "cell_type": "markdown",
   "metadata": {},
   "source": [
    "### Editing the first and second rows to be one row but concatinated to include the type of metric with the attribute. "
   ]
  },
  {
   "cell_type": "code",
   "execution_count": 4,
   "metadata": {},
   "outputs": [
    {
     "name": "stderr",
     "output_type": "stream",
     "text": [
      "C:\\Users\\garre\\AppData\\Local\\Temp\\ipykernel_18684\\3907584595.py:5: DtypeWarning: Columns (5,6,7,8,9,10,11,12,13,14,15) have mixed types. Specify dtype option on import or set low_memory=False.\n",
      "  Buoydata_full = pd.read_csv(file_path, sep=\",\")\n"
     ]
    }
   ],
   "source": [
    "\n",
    "import pandas as pd\n",
    "\n",
    "# Load the CSV file into a DataFrame\n",
    "file_path = r'C:\\Users\\garre\\.venv2\\Garrett_Kopp_Capstone_Project\\Capstone-Project\\Buoydata.csv'\n",
    "Buoydata_full = pd.read_csv(file_path, sep=\",\")\n",
    "\n",
    "# Remove the second row from the DataFrame\n",
    "Buoydata_full = Buoydata_full.iloc[1:]\n",
    "\n",
    "# Replace the header with the new values\n",
    "new_header = [\n",
    "    'station_id',\n",
    "    'longitude_degrees_east',\n",
    "    'latitude_degrees_north',\n",
    "    'time_UTC',\n",
    "    'atmospheric_pressure_mb',\n",
    "    'wind_direction_degrees_true',\n",
    "    'wind_speed_kn',\n",
    "    'gust_kn',\n",
    "    'wave_height_m',\n",
    "    'wave_period_s',\n",
    "    'mean_wave_direction_degrees_true',\n",
    "    'Hmax_m',\n",
    "    'air_temperature_degree_C',\n",
    "    'dew_point_degree_C',\n",
    "    'sea_temperature_degree_C',\n",
    "    'relative_humidity_percent',\n",
    "    'QC_flag'\n",
    "]\n",
    "\n",
    "Buoydata_full.columns = new_header\n",
    "\n",
    "# Save the modified DataFrame back to a CSV file\n",
    "Buoydata_full.to_csv(\"Buoydata_modified.csv\", index=False)\n"
   ]
  },
  {
   "cell_type": "markdown",
   "metadata": {},
   "source": [
    "### Replacing missing values in each attribute with their respective mean. "
   ]
  },
  {
   "cell_type": "code",
   "execution_count": 1,
   "metadata": {},
   "outputs": [],
   "source": [
    "\n",
    "import pandas as pd\n",
    "\n",
    "# Define the file path with your file name\n",
    "file_name = 'Buoydata_modified.csv'\n",
    "file_path = 'C:\\\\Users\\\\garre\\\\.venv2\\\\Garrett_Kopp_Capstone_Project\\\\Capstone-Project\\\\' + file_name\n",
    "\n",
    "# Load your data\n",
    "Buoydata = pd.read_csv(file_path)\n",
    "\n",
    "# List of columns for which you want to replace NaN values with their respective means\n",
    "columns_to_fill = ['atmospheric_pressure_mb', 'wind_direction_degrees_true', 'wind_speed_kn', 'gust_kn',\n",
    "                   'wave_height_m', 'wave_period_s', 'mean_wave_direction_degrees_true',\n",
    "                   'Hmax_m', 'air_temperature_degree_C', 'dew_point_degree_C',\n",
    "                   'sea_temperature_degree_C', 'relative_humidity_percent']\n",
    "\n",
    "# Convert the specified columns to numeric\n",
    "Buoydata[columns_to_fill] = Buoydata[columns_to_fill].apply(pd.to_numeric, errors='coerce')\n",
    "\n",
    "# Replace NaN values in specified columns with their respective means\n",
    "for column in columns_to_fill:\n",
    "    Buoydata[column].fillna(Buoydata[column].mean(), inplace=True)\n",
    "\n",
    "# Save the modified DataFrame back to the same CSV file\n",
    "Buoydata.to_csv(file_path, index=False)\n",
    "\n",
    "\n"
   ]
  }
 ],
 "metadata": {
  "kernelspec": {
   "display_name": "Python 3",
   "language": "python",
   "name": "python3"
  },
  "language_info": {
   "codemirror_mode": {
    "name": "ipython",
    "version": 3
   },
   "file_extension": ".py",
   "mimetype": "text/x-python",
   "name": "python",
   "nbconvert_exporter": "python",
   "pygments_lexer": "ipython3",
   "version": "3.10.11"
  },
  "orig_nbformat": 4
 },
 "nbformat": 4,
 "nbformat_minor": 2
}
